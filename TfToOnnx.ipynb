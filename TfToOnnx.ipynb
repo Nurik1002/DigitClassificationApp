{
 "cells": [
  {
   "cell_type": "code",
   "execution_count": 1,
   "id": "66f1a487-152e-4ebd-bc18-9043fcea6489",
   "metadata": {},
   "outputs": [
    {
     "name": "stderr",
     "output_type": "stream",
     "text": [
      "2023-11-21 22:16:32.905042: I tensorflow/tsl/cuda/cudart_stub.cc:28] Could not find cuda drivers on your machine, GPU will not be used.\n",
      "2023-11-21 22:16:32.937407: I tensorflow/tsl/cuda/cudart_stub.cc:28] Could not find cuda drivers on your machine, GPU will not be used.\n",
      "2023-11-21 22:16:32.938175: I tensorflow/core/platform/cpu_feature_guard.cc:182] This TensorFlow binary is optimized to use available CPU instructions in performance-critical operations.\n",
      "To enable the following instructions: AVX2 FMA, in other operations, rebuild TensorFlow with the appropriate compiler flags.\n",
      "2023-11-21 22:16:33.769264: W tensorflow/compiler/tf2tensorrt/utils/py_utils.cc:38] TF-TRT Warning: Could not find TensorRT\n"
     ]
    }
   ],
   "source": [
    "import tensorflow as tf\n",
    "from keras.models import Sequential\n",
    "from keras.layers import Dense, Activation, Dropout, Flatten\n",
    "from keras.datasets import mnist\n",
    "from keras import Input\n",
    "import numpy as np"
   ]
  },
  {
   "cell_type": "code",
   "execution_count": 2,
   "id": "93f22df6-789f-421e-8e00-fd47983e3cce",
   "metadata": {},
   "outputs": [],
   "source": [
    "(x_train, y_train),(x_test, y_test) = mnist.load_data()"
   ]
  },
  {
   "cell_type": "code",
   "execution_count": 3,
   "id": "c732870a-333c-4000-b12a-4e08c1f679a9",
   "metadata": {},
   "outputs": [
    {
     "data": {
      "text/plain": [
       "(60000, 28, 28)"
      ]
     },
     "execution_count": 3,
     "metadata": {},
     "output_type": "execute_result"
    }
   ],
   "source": [
    "x_train.shape"
   ]
  },
  {
   "cell_type": "code",
   "execution_count": 4,
   "id": "bc68deac-84d5-4e17-a525-cb790b332b4a",
   "metadata": {},
   "outputs": [
    {
     "data": {
      "text/plain": [
       "(60000,)"
      ]
     },
     "execution_count": 4,
     "metadata": {},
     "output_type": "execute_result"
    }
   ],
   "source": [
    "y_train.shape"
   ]
  },
  {
   "cell_type": "code",
   "execution_count": 5,
   "id": "6a5d8878-b77b-4045-b933-7f622417098d",
   "metadata": {},
   "outputs": [
    {
     "data": {
      "text/plain": [
       "(10000, 28, 28)"
      ]
     },
     "execution_count": 5,
     "metadata": {},
     "output_type": "execute_result"
    }
   ],
   "source": [
    "x_test.shape"
   ]
  },
  {
   "cell_type": "code",
   "execution_count": 6,
   "id": "655b583f-88b4-4d9b-a48d-7b5aca037491",
   "metadata": {},
   "outputs": [
    {
     "data": {
      "text/plain": [
       "(10000,)"
      ]
     },
     "execution_count": 6,
     "metadata": {},
     "output_type": "execute_result"
    }
   ],
   "source": [
    "y_test.shape"
   ]
  },
  {
   "cell_type": "code",
   "execution_count": 7,
   "id": "a0219609-7964-4e00-9aa2-d9d969c583ca",
   "metadata": {},
   "outputs": [],
   "source": [
    "x_train = x_train/255.\n",
    "x_test = x_test/255."
   ]
  },
  {
   "cell_type": "code",
   "execution_count": 8,
   "id": "3a2a0878-7698-4348-b5e9-42004ea2763e",
   "metadata": {},
   "outputs": [],
   "source": [
    "x_train = x_train.reshape(60000,28*28)\n",
    "x_test = x_test.reshape(10000,28*28)"
   ]
  },
  {
   "cell_type": "code",
   "execution_count": 9,
   "id": "464cd9df-ee90-4e93-ae61-ac2bbeb4a8ea",
   "metadata": {},
   "outputs": [
    {
     "name": "stderr",
     "output_type": "stream",
     "text": [
      "2023-11-21 22:16:35.550198: I tensorflow/compiler/xla/stream_executor/cuda/cuda_gpu_executor.cc:995] successful NUMA node read from SysFS had negative value (-1), but there must be at least one NUMA node, so returning NUMA node zero. See more at https://github.com/torvalds/linux/blob/v6.0/Documentation/ABI/testing/sysfs-bus-pci#L344-L355\n",
      "2023-11-21 22:16:35.550807: W tensorflow/core/common_runtime/gpu/gpu_device.cc:1960] Cannot dlopen some GPU libraries. Please make sure the missing libraries mentioned above are installed properly if you would like to use GPU. Follow the guide at https://www.tensorflow.org/install/gpu for how to download and setup the required libraries for your platform.\n",
      "Skipping registering GPU devices...\n"
     ]
    }
   ],
   "source": [
    "model = Sequential([\n",
    "    Input(shape=(784,)),\n",
    "    Dense(784,  activation='relu'),\n",
    "    Dropout(0.2),\n",
    "    Dense(500, activation='relu'),\n",
    "    Dropout(0.2),\n",
    "    Dense(100, activation='relu'),\n",
    "    Dropout(0.2),\n",
    "    Dense(10, activation='softmax')    \n",
    "])"
   ]
  },
  {
   "cell_type": "code",
   "execution_count": 10,
   "id": "d0057d7a-7a55-49ab-8129-843026395ae4",
   "metadata": {},
   "outputs": [
    {
     "name": "stdout",
     "output_type": "stream",
     "text": [
      "Model: \"sequential\"\n",
      "_________________________________________________________________\n",
      " Layer (type)                Output Shape              Param #   \n",
      "=================================================================\n",
      " dense (Dense)               (None, 784)               615440    \n",
      "                                                                 \n",
      " dropout (Dropout)           (None, 784)               0         \n",
      "                                                                 \n",
      " dense_1 (Dense)             (None, 500)               392500    \n",
      "                                                                 \n",
      " dropout_1 (Dropout)         (None, 500)               0         \n",
      "                                                                 \n",
      " dense_2 (Dense)             (None, 100)               50100     \n",
      "                                                                 \n",
      " dropout_2 (Dropout)         (None, 100)               0         \n",
      "                                                                 \n",
      " dense_3 (Dense)             (None, 10)                1010      \n",
      "                                                                 \n",
      "=================================================================\n",
      "Total params: 1059050 (4.04 MB)\n",
      "Trainable params: 1059050 (4.04 MB)\n",
      "Non-trainable params: 0 (0.00 Byte)\n",
      "_________________________________________________________________\n"
     ]
    }
   ],
   "source": [
    "model.summary()"
   ]
  },
  {
   "cell_type": "code",
   "execution_count": 11,
   "id": "2944cc56-ae7d-4f54-9dcd-219165331ee1",
   "metadata": {
    "scrolled": true
   },
   "outputs": [],
   "source": [
    "model.compile(optimizer='adam',\n",
    "              loss='sparse_categorical_crossentropy',\n",
    "              metrics=['accuracy'])"
   ]
  },
  {
   "cell_type": "code",
   "execution_count": 12,
   "id": "38968410-f742-413b-9947-bb15995d90c7",
   "metadata": {},
   "outputs": [
    {
     "name": "stdout",
     "output_type": "stream",
     "text": [
      "Epoch 1/5\n"
     ]
    },
    {
     "name": "stderr",
     "output_type": "stream",
     "text": [
      "2023-11-21 22:16:38.419994: W tensorflow/tsl/framework/cpu_allocator_impl.cc:83] Allocation of 150528000 exceeds 10% of free system memory.\n"
     ]
    },
    {
     "name": "stdout",
     "output_type": "stream",
     "text": [
      "1500/1500 [==============================] - 11s 7ms/step - loss: 0.2671 - accuracy: 0.9203 - val_loss: 0.1099 - val_accuracy: 0.9678\n",
      "Epoch 2/5\n",
      "1500/1500 [==============================] - 10s 7ms/step - loss: 0.1265 - accuracy: 0.9626 - val_loss: 0.0977 - val_accuracy: 0.9705\n",
      "Epoch 3/5\n",
      "1500/1500 [==============================] - 10s 7ms/step - loss: 0.0978 - accuracy: 0.9713 - val_loss: 0.0888 - val_accuracy: 0.9750\n",
      "Epoch 4/5\n",
      "1500/1500 [==============================] - 10s 7ms/step - loss: 0.0797 - accuracy: 0.9767 - val_loss: 0.1032 - val_accuracy: 0.9722\n",
      "Epoch 5/5\n",
      "1500/1500 [==============================] - 11s 7ms/step - loss: 0.0697 - accuracy: 0.9789 - val_loss: 0.0849 - val_accuracy: 0.9780\n"
     ]
    },
    {
     "data": {
      "text/plain": [
       "<keras.src.callbacks.History at 0x7f50d17a5250>"
      ]
     },
     "execution_count": 12,
     "metadata": {},
     "output_type": "execute_result"
    }
   ],
   "source": [
    "model.fit(x_train, y_train, epochs=5, validation_split=0.2)"
   ]
  },
  {
   "cell_type": "code",
   "execution_count": 61,
   "id": "8139d29d-cc8c-47d7-9a79-d9ffe15448eb",
   "metadata": {},
   "outputs": [
    {
     "name": "stdout",
     "output_type": "stream",
     "text": [
      "313/313 [==============================] - 1s 1ms/step - loss: 0.1053 - accuracy: 0.9726\n",
      "Test accuracy: 0.972599983215332\n"
     ]
    }
   ],
   "source": [
    "test_loss, test_acc = model.evaluate(x_test, y_test)\n",
    "print('Test accuracy:', test_acc)"
   ]
  },
  {
   "cell_type": "code",
   "execution_count": null,
   "id": "901eb81a-6823-4f84-bc4f-64291bcff2ed",
   "metadata": {},
   "outputs": [],
   "source": [
    "model.save('tfmodel.h5')"
   ]
  },
  {
   "cell_type": "code",
   "execution_count": 65,
   "id": "9e92607a-a9f2-4c02-93d2-fee0c62a2a78",
   "metadata": {},
   "outputs": [],
   "source": [
    "import onnx\n",
    "import tf2onnx\n",
    "import onnxruntime as rt"
   ]
  },
  {
   "cell_type": "code",
   "execution_count": null,
   "id": "1219f66e-5168-4dcb-bda7-f1dfe79897e5",
   "metadata": {},
   "outputs": [],
   "source": [
    "onnx_model, _ = tf2onnx.convert.from_keras(model)"
   ]
  },
  {
   "cell_type": "code",
   "execution_count": 66,
   "id": "922d246d-3671-4e70-98a4-bf6383c27f96",
   "metadata": {},
   "outputs": [],
   "source": [
    "onnx.save(onnx_model, 'onnxmodel.onnx')"
   ]
  },
  {
   "cell_type": "code",
   "execution_count": 68,
   "id": "ccdf3ec9-7e0a-47bb-83e8-d3380ebb9a6e",
   "metadata": {},
   "outputs": [],
   "source": [
    "session = rt.InferenceSession('onnxmodel.onnx')"
   ]
  },
  {
   "cell_type": "code",
   "execution_count": 69,
   "id": "9cff1e76-7a52-407c-a7bc-15565ab21ee9",
   "metadata": {},
   "outputs": [
    {
     "name": "stdout",
     "output_type": "stream",
     "text": [
      "input_7\n",
      "dense_35\n"
     ]
    }
   ],
   "source": [
    "input_name = session.get_inputs()[0].name\n",
    "print(input_name)\n",
    "output_name = session.get_outputs()[0].name\n",
    "print(output_name)"
   ]
  },
  {
   "cell_type": "code",
   "execution_count": 100,
   "id": "86aa4781-368c-4b77-b2a6-90eeb8aba89e",
   "metadata": {},
   "outputs": [
    {
     "data": {
      "text/plain": [
       "'input_7'"
      ]
     },
     "execution_count": 100,
     "metadata": {},
     "output_type": "execute_result"
    }
   ],
   "source": [
    "session.get_inputs()[0]"
   ]
  },
  {
   "cell_type": "code",
   "execution_count": 70,
   "id": "1dfe4312-155a-4510-8d39-25da261a8f06",
   "metadata": {},
   "outputs": [
    {
     "data": {
      "text/plain": [
       "['unk__6', 784]"
      ]
     },
     "execution_count": 70,
     "metadata": {},
     "output_type": "execute_result"
    }
   ],
   "source": [
    "session.get_inputs()[0].shape"
   ]
  },
  {
   "cell_type": "code",
   "execution_count": 73,
   "id": "17d7b14f-1644-4ffc-a4e0-e3a77cbafd27",
   "metadata": {},
   "outputs": [
    {
     "data": {
      "text/plain": [
       "'tensor(float)'"
      ]
     },
     "execution_count": 73,
     "metadata": {},
     "output_type": "execute_result"
    }
   ],
   "source": [
    "session.get_inputs()[0].type"
   ]
  },
  {
   "cell_type": "code",
   "execution_count": 87,
   "id": "0bc3757a-6b43-4707-b91d-3a54fd59e2e2",
   "metadata": {},
   "outputs": [],
   "source": [
    "test = x_test[0]"
   ]
  },
  {
   "cell_type": "code",
   "execution_count": 101,
   "id": "a1bb87b1-b7f3-4171-a2be-c6c5c16af36b",
   "metadata": {},
   "outputs": [],
   "source": [
    "test = test.reshape(28*28).astype(np.float32)\n",
    "test = np.expand_dims(test, axis=0)"
   ]
  },
  {
   "cell_type": "code",
   "execution_count": 102,
   "id": "afb1f173-cbb4-4eaa-a748-3305352da422",
   "metadata": {},
   "outputs": [
    {
     "data": {
      "text/plain": [
       "(1, 784)"
      ]
     },
     "execution_count": 102,
     "metadata": {},
     "output_type": "execute_result"
    }
   ],
   "source": [
    "test.shape"
   ]
  },
  {
   "cell_type": "code",
   "execution_count": 103,
   "id": "1bb5f898-9c44-45bb-989b-60148393d725",
   "metadata": {},
   "outputs": [
    {
     "data": {
      "text/plain": [
       "dtype('float32')"
      ]
     },
     "execution_count": 103,
     "metadata": {},
     "output_type": "execute_result"
    }
   ],
   "source": [
    "test.dtype"
   ]
  },
  {
   "cell_type": "code",
   "execution_count": 104,
   "id": "4928c474-3246-4341-9862-6ed5fac65fbd",
   "metadata": {},
   "outputs": [],
   "source": [
    "res = session.run([output_name], {input_name : test})"
   ]
  },
  {
   "cell_type": "code",
   "execution_count": 105,
   "id": "f2cac236-c1e9-47a1-b5c6-58eec88381ef",
   "metadata": {},
   "outputs": [
    {
     "data": {
      "text/plain": [
       "7"
      ]
     },
     "execution_count": 105,
     "metadata": {},
     "output_type": "execute_result"
    }
   ],
   "source": [
    "np.argmax(res)"
   ]
  },
  {
   "cell_type": "code",
   "execution_count": 106,
   "id": "4466f919-cfb4-4745-8b93-00c8da5fdc9c",
   "metadata": {},
   "outputs": [
    {
     "data": {
      "text/plain": [
       "7"
      ]
     },
     "execution_count": 106,
     "metadata": {},
     "output_type": "execute_result"
    }
   ],
   "source": [
    "y_test[0]"
   ]
  },
  {
   "cell_type": "code",
   "execution_count": 107,
   "id": "9ac4de4a-6011-4c2a-b617-e410df5e6682",
   "metadata": {},
   "outputs": [],
   "source": [
    "def onnxPred(input):\n",
    "    test = input.reshape(28*28).astype(np.float32)\n",
    "    test = np.expand_dims(test, axis=0)\n",
    "    res = session.run([output_name], {input_name : test})\n",
    "    return np.argmax(res)"
   ]
  },
  {
   "cell_type": "code",
   "execution_count": 108,
   "id": "cff2c9e0-e295-44e8-9c29-00f27b038125",
   "metadata": {},
   "outputs": [
    {
     "data": {
      "text/plain": [
       "2"
      ]
     },
     "execution_count": 108,
     "metadata": {},
     "output_type": "execute_result"
    }
   ],
   "source": [
    "onnxPred(x_test[1])"
   ]
  },
  {
   "cell_type": "code",
   "execution_count": null,
   "id": "bb7a2856-db61-4649-b717-b65d0b83a961",
   "metadata": {},
   "outputs": [],
   "source": []
  }
 ],
 "metadata": {
  "kernelspec": {
   "display_name": "tfenv",
   "language": "python",
   "name": "tfenv"
  },
  "language_info": {
   "codemirror_mode": {
    "name": "ipython",
    "version": 3
   },
   "file_extension": ".py",
   "mimetype": "text/x-python",
   "name": "python",
   "nbconvert_exporter": "python",
   "pygments_lexer": "ipython3",
   "version": "3.11.6"
  }
 },
 "nbformat": 4,
 "nbformat_minor": 5
}
